{
 "cells": [
  {
   "cell_type": "markdown",
   "metadata": {},
   "source": [
    "Genetic algorithm"
   ]
  },
  {
   "cell_type": "code",
   "execution_count": 41,
   "metadata": {},
   "outputs": [],
   "source": [
    "# imports\n",
    "import numpy as np\n",
    "import random\n",
    "import string"
   ]
  },
  {
   "cell_type": "markdown",
   "metadata": {},
   "source": [
    "Individual:"
   ]
  },
  {
   "cell_type": "code",
   "execution_count": 42,
   "metadata": {},
   "outputs": [],
   "source": [
    "class Individual:\n",
    "\n",
    "    #@abstractclassmethod\n",
    "    def get_fitness(self) -> float:\n",
    "        pass\n",
    "\n",
    "    #@abstractclassmethod\n",
    "    def mutate(self):\n",
    "        pass\n",
    "\n",
    "    #@abstractclassmethod\n",
    "    def crossover(self, other_individual):\n",
    "        pass\n",
    "\n",
    "\n",
    "class IntegerFunctionIndividual(Individual):\n",
    "\n",
    "    #@abstractclassmethod\n",
    "    def get_fitness(self) -> float:\n",
    "        pass\n",
    "\n",
    "    #@abstractclassmethod\n",
    "    def mutate(self) -> Individual:\n",
    "        pass\n",
    "\n",
    "    #@abstractclassmethod\n",
    "    def crossover(self, other_individual) -> Individual:\n",
    "        pass\n",
    "\n",
    "\n",
    "# test function from e-mail\n",
    "class TestFunctionIndividual(IntegerFunctionIndividual):\n",
    "\n",
    "    def __init__(self, chromosome=0):\n",
    "        self.chromosome: int = chromosome\n",
    "        self.max_value: int = 32\n",
    "        self.min_value: int = 0\n",
    "        self.chromosome_lenght: int = 6\n",
    "\n",
    "    def random_chromosome(self):\n",
    "        self.chromosome = random.randint(0, self.max_value)\n",
    "\n",
    "    def get_fitness(self) -> float:\n",
    "        x: int = self.chromosome - 1\n",
    "        y: float = -0.2 * x**2 + 6 * x + 7\n",
    "        return max(y, 0.0)\n",
    "\n",
    "    def mutate(self) -> Individual:\n",
    "        pivot: int = random.randint(0, self.chromosome_lenght)\n",
    "        mask: int = 1 << pivot\n",
    "        if self.chromosome & mask == 0:\n",
    "            return TestFunctionIndividual(self.normalize(self.chromosome + mask))\n",
    "        else:\n",
    "            return TestFunctionIndividual(self.normalize(self.chromosome - mask))\n",
    "\n",
    "    def crossover(self, other_individual) -> Individual:\n",
    "        pivot: int = random.randint(0, self.chromosome_lenght)\n",
    "        mask: int = 1\n",
    "        chromosomeOfNewIndividual1: int = 0\n",
    "        chromosomeOfNewIndividual2: int = 0\n",
    "        i :int = 0\n",
    "        while i < pivot:\n",
    "            chromosomeOfNewIndividual1 += self.chromosome & mask\n",
    "            chromosomeOfNewIndividual2 += other_individual.chromosome & mask\n",
    "            mask *= 2\n",
    "            i += 1\n",
    "\n",
    "        while i < self.chromosome_lenght:\n",
    "            chromosomeOfNewIndividual1 += other_individual.chromosome & mask\n",
    "            chromosomeOfNewIndividual2 += self.chromosome & mask\n",
    "            mask *= 2\n",
    "            i += 1\n",
    "\n",
    "        return TestFunctionIndividual(self.normalize(chromosomeOfNewIndividual1)), TestFunctionIndividual(self.normalize(chromosomeOfNewIndividual2))\n",
    "\n",
    "    def normalize(self, chromosome: int) -> int:\n",
    "        if chromosome < 0:\n",
    "            return 0\n",
    "        if chromosome > self.max_value:\n",
    "            return self.max_value\n",
    "        return chromosome\n",
    "\n",
    "    def __str__(self):\n",
    "        return \"{0:b}\".format(self.chromosome)\n",
    "\n",
    "\n",
    "# print(\"{0:b}\".format(self.chromosome))\n",
    "# print(\"{0:b}\".format(other_individual.chromosome))\n",
    "# print(\"{0:b}\".format(chromosomeOfNewIndividual))\n",
    "\n",
    "# ind1 = TestFunctionIndividual(0)\n",
    "# ind1.random_chromosome()\n",
    "# print(ind1)\n",
    "# ind2 = TestFunctionIndividual(2)\n",
    "# ind2.random_chromosome()\n",
    "# print(ind2)\n",
    "# ind3, ind4 = ind1.crossover(ind2)\n",
    "# print(ind3, ind4)"
   ]
  },
  {
   "cell_type": "markdown",
   "metadata": {},
   "source": [
    "Selection:"
   ]
  },
  {
   "cell_type": "code",
   "execution_count": 43,
   "metadata": {},
   "outputs": [],
   "source": [
    "class Selection:\n",
    "    def select(population):\n",
    "        pass\n",
    "\n",
    "\n",
    "class RouletteSelection(Selection):\n",
    "    def __init__(self):\n",
    "        pass\n",
    "\n",
    "    def select(self, population, num):\n",
    "        n = len(population)\n",
    "        wheel = np.zeros(len(population))\n",
    "        sum = 0.0\n",
    "        for i in range(n):\n",
    "            sum += population[i].get_fitness()\n",
    "            wheel[i] = sum\n",
    "        \n",
    "        wheel /= sum\n",
    "        new_population=[]\n",
    "        for i in range(num):\n",
    "            val = random.random()\n",
    "            j = 0\n",
    "            while (wheel[j] < val): # binary search\n",
    "                j += 1\n",
    "            new_population.append(population[j])\n",
    "\n",
    "        return new_population"
   ]
  },
  {
   "cell_type": "markdown",
   "metadata": {},
   "source": [
    "Scaling:"
   ]
  },
  {
   "cell_type": "code",
   "execution_count": 44,
   "metadata": {},
   "outputs": [],
   "source": [
    "class Scaling:\n",
    "    def scale_fitness(population):\n",
    "        pass\n",
    "\n",
    "\n",
    "class LinearScaling(Scaling):\n",
    "    def scale_fitness(population):\n",
    "        pass"
   ]
  },
  {
   "cell_type": "markdown",
   "metadata": {},
   "source": [
    "Population:"
   ]
  },
  {
   "cell_type": "code",
   "execution_count": 45,
   "metadata": {},
   "outputs": [],
   "source": [
    "class IntegerFunctionPolulation:\n",
    "    def __init__(self, selection, crossover_prob=0.5, mutation_prob=0.02, size=100):\n",
    "        self.crossover_prob = crossover_prob\n",
    "        self.mutation_prob = mutation_prob\n",
    "        self.selection = selection\n",
    "        self.population = []\n",
    "        for _ in range(size):\n",
    "            individual = TestFunctionIndividual()\n",
    "            individual.random_chromosome()\n",
    "            self.population.append(individual)\n",
    "\n",
    "    # def crossover(self):\n",
    "    #     n = len(self.population)\n",
    "    #     for i in range(n):\n",
    "    #         for j in range(i+1,n):\n",
    "    #             val = random.random()\n",
    "    #             if val < self.crossover_prob:\n",
    "    #                 self.population.append(self.population[i].crossover(self.population[j]))\n",
    "\n",
    "    def crossover(self):\n",
    "        new_population = []\n",
    "        while len(self.population) > 2:\n",
    "            first_parent = self.population.pop(random.randint(0, len(self.population)-1))\n",
    "            second_parent = self.population.pop(random.randint(0, len(self.population)-1))\n",
    "            child1, child2 = first_parent.crossover(second_parent)\n",
    "            new_population.append(child1)\n",
    "            new_population.append(child2)\n",
    "        self.population = new_population\n",
    "\n",
    "    def mutate(self):\n",
    "        n = len(self.population)\n",
    "        for i in range(n):\n",
    "            val = random.random()\n",
    "            if val < self.crossover_prob:\n",
    "                self.population.append(self.population[i].mutate())\n",
    "\n",
    "    def select(self, num):\n",
    "        self.population = self.selection.select(self.population, num)\n",
    "\n",
    "\n",
    "    def get_worst(self):\n",
    "        worst = self.population[0]\n",
    "        for ind in self.population:\n",
    "            if worst.get_fitness() > ind.get_fitness():\n",
    "                worst = ind\n",
    "        return worst\n",
    "\n",
    "    def get_avg(self):\n",
    "        sum = 0.0\n",
    "        for ind in self.population:\n",
    "            sum += ind.get_fitness()\n",
    "\n",
    "        return sum / len(self.population)\n",
    "\n",
    "\n",
    "    def get_best(self):\n",
    "        best = self.population[0]\n",
    "        for ind in self.population:\n",
    "            if best.get_fitness() < ind.get_fitness():\n",
    "                best = ind\n",
    "        return best\n",
    "\n",
    "    def get_all_results(self):\n",
    "        return self.population\n",
    "    "
   ]
  },
  {
   "cell_type": "markdown",
   "metadata": {},
   "source": [
    "algorithm:"
   ]
  },
  {
   "cell_type": "code",
   "execution_count": 48,
   "metadata": {},
   "outputs": [
    {
     "name": "stdout",
     "output_type": "stream",
     "text": [
      "1110\n",
      "51.199999999999996\n"
     ]
    }
   ],
   "source": [
    "iter = 10\n",
    "population_size = 5\n",
    "\n",
    "population = IntegerFunctionPolulation(RouletteSelection(), size=population_size)\n",
    "\n",
    "# data for chart\n",
    "best = []\n",
    "avg = []\n",
    "worst = []\n",
    "best.append(population.get_best().get_fitness())\n",
    "avg.append(population.get_avg())\n",
    "worst.append(population.get_worst().get_fitness())\n",
    "\n",
    "for i in range(iter):\n",
    "    population.select(population_size)\n",
    "    population.crossover()\n",
    "    population.mutate()\n",
    "    # data for chart\n",
    "    best.append(population.get_best().get_fitness())\n",
    "    avg.append(population.get_avg())\n",
    "    worst.append(population.get_worst().get_fitness())\n",
    "    # print(population.get_worst())\n",
    "\n",
    "current_best = population.get_best()\n",
    "print(current_best)\n",
    "print(current_best.get_fitness())"
   ]
  },
  {
   "cell_type": "code",
   "execution_count": 49,
   "metadata": {},
   "outputs": [
    {
     "data": {
      "image/png": "[encoded data removed]",
      "text/plain": [
       "<Figure size 960x640 with 1 Axes>"
      ]
     },
     "metadata": {
      "needs_background": "light"
     },
     "output_type": "display_data"
    }
   ],
   "source": [
    "import matplotlib.pyplot as plt\n",
    "\n",
    "plt.figure(figsize=(12, 8), dpi=80)\n",
    "plt.plot([i for i in range(iter + 1)], best, \"o-\",label=\"best\")\n",
    "plt.plot([i for i in range(iter + 1)], avg, \"o-\",  label=\"avg\")\n",
    "plt.plot([i for i in range(iter + 1)], worst, \"o-\",  label=\"worst\")\n",
    "plt.legend(loc=\"best\")\n",
    "plt.show()"
   ]
  }
 ],
 "metadata": {
  "kernelspec": {
   "display_name": "Python 3.9.13 ('.venv': venv)",
   "language": "python",
   "name": "python3"
  },
  "language_info": {
   "codemirror_mode": {
    "name": "ipython",
    "version": 3
   },
   "file_extension": ".py",
   "mimetype": "text/x-python",
   "name": "python",
   "nbconvert_exporter": "python",
   "pygments_lexer": "ipython3",
   "version": "3.9.13"
  },
  "orig_nbformat": 4,
  "vscode": {
   "interpreter": {
    "hash": "b29bcc1dbd9f2d601300af7ae44fd7cee076335342f7a62ce52c6baebe61a1fb"
   }
  }
 },
 "nbformat": 4,
 "nbformat_minor": 2
}
