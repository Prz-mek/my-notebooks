{
 "cells": [
  {
   "attachments": {},
   "cell_type": "markdown",
   "metadata": {},
   "source": [
    "### Zad. 1.\n",
    "---\n",
    "Do krzyżowania prostego wylosowano dwa ciągi:\n",
    "A1 = 011101 i A2 = 111000\n",
    "Wylosowno punkt krzyżowania k=3. Dokonano krzyżoawania prostego, a nasepnie mutacji (prawdopodobieństwo mutacji pm=1)"
   ]
  },
  {
   "cell_type": "code",
   "execution_count": 3,
   "metadata": {},
   "outputs": [
    {
     "name": "stdout",
     "output_type": "stream",
     "text": [
      "[0, 1, 1, 1, 0, 1] [1, 1, 1, 0, 0, 0]\n",
      "[0, 1, 1, 1, 0, 0] [1, 1, 1, 0, 0, 1]\n",
      "[1, 0, 0, 0, 1, 1] [0, 0, 0, 1, 1, 0]\n"
     ]
    }
   ],
   "source": [
    "import random\n",
    "\n",
    "def one_point_crossover(p1: list[int], p2: list[int], point: int = -1) -> tuple[list[int], list[int]]:\n",
    "    n: int = len(p1) if len(p1) < len(p2) else len(p2)\n",
    "    if point < 0:\n",
    "        point = random.randint(1, n - 1)\n",
    "    child1: list[int] = [p1[i] for i in range(point)] + [p2[i] for i in range(point, n)]\n",
    "    child2: list[int] = [p2[i] for i in range(point)] + [p1[i] for i in range(point, n)]\n",
    "    return child1, child2\n",
    "\n",
    "def uniform_mutation(chromosome: list[int], mutation_probality: float):\n",
    "    x_man: list[int] = []\n",
    "    for gen in chromosome:\n",
    "        if random.random() < mutation_probality:\n",
    "            x_man.append(0 if gen == 1 else 1)\n",
    "            continue\n",
    "        x_man.append(gen)\n",
    "    return x_man\n",
    "\n",
    "\n",
    "A1 = [0, 1, 1, 1, 0, 1]\n",
    "A2 = [1, 1, 1, 0, 0, 0]\n",
    "k = 3 + 1 # bo do 0 a nie od 1\n",
    "print(A1, A2)\n",
    "\n",
    "A1_prim, A2_prim = one_point_crossover(A1, A2, k)\n",
    "\n",
    "print(A1_prim, A2_prim)\n",
    "\n",
    "A1_bis = uniform_mutation(A1_prim, 1.0)\n",
    "A2_bis = uniform_mutation(A2_prim, 1.0)\n",
    "\n",
    "print(A1_bis, A2_bis)"
   ]
  },
  {
   "attachments": {},
   "cell_type": "markdown",
   "metadata": {},
   "source": [
    "### Zad. 2.\n",
    "---\n",
    "Dana jest populacja złożona z 4 ciągów. kodowych Podać wartości oczekiwane liczby kopii w procesie reprodukcji.\n",
    "\n",
    "|Nr|Ciąg kodowy|Przystosowanie|\n",
    "|--|-----------|--------------|\n",
    "|1 |0001       |      49      |\n",
    "|2 |0101       |      14      |\n",
    "|3 |0111       |       1      |\n",
    "|4 |1111       |      36      |"
   ]
  },
  {
   "cell_type": "code",
   "execution_count": 10,
   "metadata": {},
   "outputs": [
    {
     "data": {
      "text/html": [
       "<div>\n",
       "<style scoped>\n",
       "    .dataframe tbody tr th:only-of-type {\n",
       "        vertical-align: middle;\n",
       "    }\n",
       "\n",
       "    .dataframe tbody tr th {\n",
       "        vertical-align: top;\n",
       "    }\n",
       "\n",
       "    .dataframe thead th {\n",
       "        text-align: right;\n",
       "    }\n",
       "</style>\n",
       "<table border=\"1\" class=\"dataframe\">\n",
       "  <thead>\n",
       "    <tr style=\"text-align: right;\">\n",
       "      <th></th>\n",
       "      <th>Ciąg kodowy</th>\n",
       "      <th>Przystosowanie</th>\n",
       "      <th>P reprodukcji</th>\n",
       "      <th>Ocz. licz. kopii</th>\n",
       "    </tr>\n",
       "  </thead>\n",
       "  <tbody>\n",
       "    <tr>\n",
       "      <th>0</th>\n",
       "      <td>0001</td>\n",
       "      <td>49</td>\n",
       "      <td>0.49</td>\n",
       "      <td>1.96</td>\n",
       "    </tr>\n",
       "    <tr>\n",
       "      <th>1</th>\n",
       "      <td>0101</td>\n",
       "      <td>14</td>\n",
       "      <td>0.14</td>\n",
       "      <td>0.56</td>\n",
       "    </tr>\n",
       "    <tr>\n",
       "      <th>2</th>\n",
       "      <td>0111</td>\n",
       "      <td>1</td>\n",
       "      <td>0.01</td>\n",
       "      <td>0.04</td>\n",
       "    </tr>\n",
       "    <tr>\n",
       "      <th>3</th>\n",
       "      <td>1111</td>\n",
       "      <td>36</td>\n",
       "      <td>0.36</td>\n",
       "      <td>1.44</td>\n",
       "    </tr>\n",
       "  </tbody>\n",
       "</table>\n",
       "</div>"
      ],
      "text/plain": [
       "  Ciąg kodowy  Przystosowanie  P reprodukcji  Ocz. licz. kopii\n",
       "0        0001              49           0.49              1.96\n",
       "1        0101              14           0.14              0.56\n",
       "2        0111               1           0.01              0.04\n",
       "3        1111              36           0.36              1.44"
      ]
     },
     "execution_count": 10,
     "metadata": {},
     "output_type": "execute_result"
    }
   ],
   "source": [
    "import pandas as pd\n",
    "\n",
    "x = ['0001', '0101', '0111', '1111']\n",
    "fitness = [49, 14, 1, 36]\n",
    "fitness_sum = sum(fitness)\n",
    "roulette_weights = [f / fitness_sum for f in fitness]\n",
    "supposed_copy_number =  [r * len(x) for r in roulette_weights]\n",
    "\n",
    "df = pd.DataFrame(list(zip(x, fitness, roulette_weights, supposed_copy_number)), columns =['Ciąg kodowy', 'Przystosowanie', 'P reprodukcji', 'Ocz. licz. kopii'])\n",
    "\n",
    "df"
   ]
  },
  {
   "attachments": {},
   "cell_type": "markdown",
   "metadata": {},
   "source": [
    "### Zad. 3.\n",
    "---\n",
    "Na czym polaga i jakie ma zastosowanie duplikacja i delecja w algorytmach genetycznych?"
   ]
  },
  {
   "attachments": {},
   "cell_type": "markdown",
   "metadata": {},
   "source": [
    "Są to adaptacyjne metody regulacji intensywności (tempa) mutacji.\n",
    "\n",
    "\n",
    "**Duplikacja** polaga na powieleniu istniejących genów z genów (pozycji w ciągu kodowym).\n",
    "\n",
    "*Przykład:*\n",
    "a1**a2**a3a4a5 -> a1**a2a2**a3a4a5\n",
    "\n",
    "*Działanie:*\n",
    "Zwiększa szansę mutacji powielonego genu\n",
    "\n",
    "\n",
    "\n",
    "**Delecja** polaga na zredukowaniu istniejących genów [czy musi być zwielokrotniony?] (pozycji w ciągu kodowym).\n",
    "\n",
    "*Przykład:*\n",
    "a1**a2a2**a3a4a5 -> a1**a2**a3a4a5\n",
    "\n",
    "*Zastosowanie:*\n",
    "Brak"
   ]
  },
  {
   "attachments": {},
   "cell_type": "markdown",
   "metadata": {},
   "source": [
    "### Zad. 4.\n",
    "---\n",
    "Jakie są typy organizacji równoległej algorytmów genetycznych?"
   ]
  },
  {
   "attachments": {},
   "cell_type": "markdown",
   "metadata": {},
   "source": [
    "* Synchroniczna scentralizowana\n",
    "* Półsynchroniczna scentralizowana\n",
    "* Asynchroniczna rozproszona\n",
    "* Sieciowa"
   ]
  },
  {
   "attachments": {},
   "cell_type": "markdown",
   "metadata": {},
   "source": [
    "### Zad. 5\n",
    "---\n",
    "Podać definicję rzędu i rozpiętości schematu. Definicję zilustrować przykłądem."
   ]
  },
  {
   "attachments": {},
   "cell_type": "markdown",
   "metadata": {},
   "source": [
    "**Rząd schematu H**, oznaczana o(H), to liczba ustalonych pozycji w schemacie.\n",
    "\n",
    "*Przykład:*\n",
    "\n",
    "o(1 * 0 * 1 *)=3 \n",
    "\n",
    "o(* * * * 1 *)=1\n",
    "\n",
    "\n",
    "**Rozpiętość schematu H**, oznaczana delta(H), to odległość między dwiema skrajnymi ustalonymi pozycjami w schemacie.\n",
    "\n",
    "*Przykład:*\n",
    "\n",
    "delta(1 * 0 * 1 *)=5-1=4 \n",
    "\n",
    "delta(* * * * 1 *)=5-5=0"
   ]
  }
 ],
 "metadata": {
  "kernelspec": {
   "display_name": ".venv",
   "language": "python",
   "name": "python3"
  },
  "language_info": {
   "codemirror_mode": {
    "name": "ipython",
    "version": 3
   },
   "file_extension": ".py",
   "mimetype": "text/x-python",
   "name": "python",
   "nbconvert_exporter": "python",
   "pygments_lexer": "ipython3",
   "version": "3.9.13"
  },
  "orig_nbformat": 4,
  "vscode": {
   "interpreter": {
    "hash": "b29bcc1dbd9f2d601300af7ae44fd7cee076335342f7a62ce52c6baebe61a1fb"
   }
  }
 },
 "nbformat": 4,
 "nbformat_minor": 2
}
