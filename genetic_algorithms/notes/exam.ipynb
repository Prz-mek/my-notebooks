{
 "cells": [
  {
   "cell_type": "code",
   "execution_count": 1,
   "metadata": {},
   "outputs": [],
   "source": [
    "# imports\n",
    "import random\n",
    "import pandas as pd"
   ]
  },
  {
   "attachments": {},
   "cell_type": "markdown",
   "metadata": {},
   "source": [
    "# Wykład 1.\n",
    "___"
   ]
  },
  {
   "attachments": {},
   "cell_type": "markdown",
   "metadata": {},
   "source": [
    "### Zad. 1.\n",
    "\n",
    "Co to jest algorytm ewolucyjny?\n",
    "\n",
    "Algorytmy genetyczne to algorytmy poszukiwania rozwiązania oparte na mechanizmie doboru naturalnego i dziedziczności. Łączą zasadę przeżycia z losową wymianą informacji. W każdym pokoleniu nowy zespół sztucznych organizmów z najlepiej przystosowanych organizmów. \n",
    "\n",
    "___"
   ]
  },
  {
   "attachments": {},
   "cell_type": "markdown",
   "metadata": {},
   "source": [
    "### Zad. 2.\n",
    "\n",
    "**Co to jest reprodukcja, krzyżowanie, mutacja?**\n",
    "\n",
    "\n",
    "\n",
    "Reprodukcja jest procesem powielenia ciągów kodowych w stosunku zależnym od ich przystosowania.\n",
    "\n",
    "Krzyżowanie polega na połączeniu niektórych genotypów w jeden. Kojarzenie ma sprawić, że potomek dwóch osobników rodzicielskich ma zespół cech, który jest kombinacją ich cech.\n",
    "\n",
    "Mutacja polega na sporadycznej (tj. zachodzącej z niewielkim prawdopodobieństwem) przypadkowej zmianie kodowego ciągu.\n",
    "\n",
    "\n",
    "___"
   ]
  },
  {
   "attachments": {},
   "cell_type": "markdown",
   "metadata": {},
   "source": [
    "### Zad. 3.\t\n",
    "**Cechy wyróżniające alg. Ewo. ( wady, zalety, operacje).**\n",
    "\n",
    "Operacje: \n",
    "* reprodukcja,\n",
    "* krzyżowanie,\n",
    "* mutacja.\n",
    "\n",
    "Cechy wyróżniające algorytmów genetycznych:\n",
    "* algorytmy genetyczne nie przetwarzają parametrów, lecz ich zakodowaną postać.\n",
    "* algorytmy genetyczne prowadzą poszukiwania wychodząc nie z jednego punktu, lecz z pewnej \n",
    "populacji punktów\n",
    "* algorytmy genetyczne korzystają tylko z funkcji celu, a nie z pochodnych lub innych pomocniczych informacji.\n",
    "* algorytmy genetyczne stosują probabilistyczne, a nie deterministyczne reguły wyboru.\n",
    "\n",
    "Wady:\n",
    "* Uniwersalność – mniejsza skuteczność niż alg. specjalistyczne\n",
    "* Wolniejsza od metod zachłannych\n",
    "* Małe prawdopodobieństwo znalezienia rozwiązania optymalnego\n",
    "* Wszystko zależy od dobranej funkcji dopasowania\n",
    "\n",
    "Zalety:\n",
    "* Algorytm jest uniwersalny  \n",
    "* Nie musimy wiedzieć co optymalizujemy (metoda czarnoskrzynkowa)\n",
    "* Wystarczy nawet selekcja turniejowa\n",
    "* Algorytm niedeterministyczny, więc możemy próbować optymalizować wielokrotnie\n",
    "* Stosunkowo duża szybkość działania\n",
    "\n",
    "\n",
    "___"
   ]
  },
  {
   "attachments": {},
   "cell_type": "markdown",
   "metadata": {},
   "source": [
    "### Zad. 4.\n",
    "\n",
    "Do krzyżowania prostego wylosowano dwa ciągi:\n",
    "\n",
    "A1 = 011101 i A2 = 111000\n",
    "\n",
    "Wylosowno punkt krzyżowania k=3. Dokonano krzyżoawania prostego, a nasepnie mutacji (prawdopodobieństwo mutacji pm=1)"
   ]
  },
  {
   "cell_type": "code",
   "execution_count": 5,
   "metadata": {},
   "outputs": [
    {
     "data": {
      "text/html": [
       "<div>\n",
       "<style scoped>\n",
       "    .dataframe tbody tr th:only-of-type {\n",
       "        vertical-align: middle;\n",
       "    }\n",
       "\n",
       "    .dataframe tbody tr th {\n",
       "        vertical-align: top;\n",
       "    }\n",
       "\n",
       "    .dataframe thead th {\n",
       "        text-align: right;\n",
       "    }\n",
       "</style>\n",
       "<table border=\"1\" class=\"dataframe\">\n",
       "  <thead>\n",
       "    <tr style=\"text-align: right;\">\n",
       "      <th></th>\n",
       "      <th>Ax</th>\n",
       "      <th>Ax'</th>\n",
       "      <th>Ax\"</th>\n",
       "    </tr>\n",
       "  </thead>\n",
       "  <tbody>\n",
       "    <tr>\n",
       "      <th>1</th>\n",
       "      <td>[0, 1, 1, 1, 0, 1]</td>\n",
       "      <td>[0, 1, 1, 1, 0, 0]</td>\n",
       "      <td>[1, 0, 0, 0, 1, 1]</td>\n",
       "    </tr>\n",
       "    <tr>\n",
       "      <th>2</th>\n",
       "      <td>[1, 1, 1, 0, 0, 0]</td>\n",
       "      <td>[1, 1, 1, 0, 0, 1]</td>\n",
       "      <td>[0, 0, 0, 1, 1, 0]</td>\n",
       "    </tr>\n",
       "  </tbody>\n",
       "</table>\n",
       "</div>"
      ],
      "text/plain": [
       "                   Ax                 Ax'                 Ax\"\n",
       "1  [0, 1, 1, 1, 0, 1]  [0, 1, 1, 1, 0, 0]  [1, 0, 0, 0, 1, 1]\n",
       "2  [1, 1, 1, 0, 0, 0]  [1, 1, 1, 0, 0, 1]  [0, 0, 0, 1, 1, 0]"
      ]
     },
     "execution_count": 5,
     "metadata": {},
     "output_type": "execute_result"
    }
   ],
   "source": [
    "def one_point_crossover(p1: list[int], p2: list[int], point: int = -1) -> tuple[list[int], list[int]]:\n",
    "    n: int = len(p1) if len(p1) < len(p2) else len(p2)\n",
    "    if point < 0:\n",
    "        point = random.randint(1, n - 1)\n",
    "    child1: list[int] = [p1[i] for i in range(point)] + [p2[i] for i in range(point, n)]\n",
    "    child2: list[int] = [p2[i] for i in range(point)] + [p1[i] for i in range(point, n)]\n",
    "    return child1, child2\n",
    "\n",
    "def uniform_mutation(chromosome: list[int], mutation_probality: float):\n",
    "    x_man: list[int] = []\n",
    "    for gen in chromosome:\n",
    "        if random.random() < mutation_probality:\n",
    "            x_man.append(0 if gen == 1 else 1)\n",
    "            continue\n",
    "        x_man.append(gen)\n",
    "    return x_man\n",
    "\n",
    "\n",
    "A1 = [0, 1, 1, 1, 0, 1]\n",
    "A2 = [1, 1, 1, 0, 0, 0]\n",
    "k = 3\n",
    "\n",
    "A1_prim, A2_prim = one_point_crossover(A1, A2, k)\n",
    "\n",
    "A1_bis = uniform_mutation(A1_prim, 1.0)\n",
    "A2_bis = uniform_mutation(A2_prim, 1.0)\n",
    "\n",
    "df = pd.DataFrame(list(zip([A1,A2],[A1_prim,A2_prim],[A1_bis,A2_bis])), \n",
    "            columns =['Ax', 'Ax\\'', 'Ax\\\"'])\n",
    "\n",
    "df.index += 1\n",
    "df"
   ]
  },
  {
   "attachments": {},
   "cell_type": "markdown",
   "metadata": {},
   "source": [
    "---"
   ]
  },
  {
   "attachments": {},
   "cell_type": "markdown",
   "metadata": {},
   "source": [
    "### Zad. 5.\n",
    "\n",
    "Dana jest populacja złożona z 4 ciągów. kodowych Podać wartości oczekiwane liczby kopii w procesie reprodukcji.\n",
    "\n",
    "|Nr|Ciąg kodowy|Przystosowanie|\n",
    "|--|-----------|--------------|\n",
    "|1 |0001       |      49      |\n",
    "|2 |0101       |      14      |\n",
    "|3 |0111       |       1      |\n",
    "|4 |1111       |      36      |"
   ]
  },
  {
   "cell_type": "code",
   "execution_count": 3,
   "metadata": {},
   "outputs": [
    {
     "data": {
      "text/html": [
       "<div>\n",
       "<style scoped>\n",
       "    .dataframe tbody tr th:only-of-type {\n",
       "        vertical-align: middle;\n",
       "    }\n",
       "\n",
       "    .dataframe tbody tr th {\n",
       "        vertical-align: top;\n",
       "    }\n",
       "\n",
       "    .dataframe thead th {\n",
       "        text-align: right;\n",
       "    }\n",
       "</style>\n",
       "<table border=\"1\" class=\"dataframe\">\n",
       "  <thead>\n",
       "    <tr style=\"text-align: right;\">\n",
       "      <th></th>\n",
       "      <th>Ciąg kodowy</th>\n",
       "      <th>Przystosowanie</th>\n",
       "      <th>P reprodukcji</th>\n",
       "      <th>Ocz. licz. kopii</th>\n",
       "    </tr>\n",
       "  </thead>\n",
       "  <tbody>\n",
       "    <tr>\n",
       "      <th>1</th>\n",
       "      <td>0001</td>\n",
       "      <td>49</td>\n",
       "      <td>0.49</td>\n",
       "      <td>1.96</td>\n",
       "    </tr>\n",
       "    <tr>\n",
       "      <th>2</th>\n",
       "      <td>0101</td>\n",
       "      <td>14</td>\n",
       "      <td>0.14</td>\n",
       "      <td>0.56</td>\n",
       "    </tr>\n",
       "    <tr>\n",
       "      <th>3</th>\n",
       "      <td>0111</td>\n",
       "      <td>1</td>\n",
       "      <td>0.01</td>\n",
       "      <td>0.04</td>\n",
       "    </tr>\n",
       "    <tr>\n",
       "      <th>4</th>\n",
       "      <td>1111</td>\n",
       "      <td>36</td>\n",
       "      <td>0.36</td>\n",
       "      <td>1.44</td>\n",
       "    </tr>\n",
       "  </tbody>\n",
       "</table>\n",
       "</div>"
      ],
      "text/plain": [
       "  Ciąg kodowy  Przystosowanie  P reprodukcji  Ocz. licz. kopii\n",
       "1        0001              49           0.49              1.96\n",
       "2        0101              14           0.14              0.56\n",
       "3        0111               1           0.01              0.04\n",
       "4        1111              36           0.36              1.44"
      ]
     },
     "execution_count": 3,
     "metadata": {},
     "output_type": "execute_result"
    }
   ],
   "source": [
    "x = ['0001', '0101', '0111', '1111']\n",
    "fitness = [49, 14, 1, 36]\n",
    "fitness_sum = sum(fitness)\n",
    "roulette_weights = [f / fitness_sum for f in fitness]\n",
    "supposed_copy_number =  [r * len(x) for r in roulette_weights]\n",
    "\n",
    "df = pd.DataFrame(list(zip(x, fitness, roulette_weights, supposed_copy_number)), \n",
    "            columns =['Ciąg kodowy', 'Przystosowanie', 'P reprodukcji', 'Ocz. licz. kopii'])\n",
    "\n",
    "df.index += 1\n",
    "df"
   ]
  },
  {
   "attachments": {},
   "cell_type": "markdown",
   "metadata": {},
   "source": [
    "____"
   ]
  },
  {
   "attachments": {},
   "cell_type": "markdown",
   "metadata": {},
   "source": [
    "# Wykład 2.\n",
    "---\n",
    "___"
   ]
  },
  {
   "attachments": {},
   "cell_type": "markdown",
   "metadata": {},
   "source": [
    "### Zad. 1\n",
    "**Podać definicję rzędu i rozpiętości schematu. Definicję zilustrować przykłądem.**\n",
    "\n",
    "\n",
    "**Rząd schematu H**, oznaczana o(H), to liczba ustalonych pozycji w schemacie.\n",
    "\n",
    "*Przykład:*\n",
    "\n",
    "o(1 * 0 * 1 *)=3 \n",
    "\n",
    "o(* * * * 1 *)=1\n",
    "\n",
    "\n",
    "**Rozpiętość schematu H**, oznaczana delta(H), to odległość między dwiema skrajnymi ustalonymi pozycjami w schemacie.\n",
    "\n",
    "*Przykład:*\n",
    "\n",
    "delta(1 * 0 * 1 *)=5-1=4 \n",
    "\n",
    "delta(* * * * 1 *)=5-5=0\n",
    "\n",
    "___"
   ]
  },
  {
   "attachments": {},
   "cell_type": "markdown",
   "metadata": {},
   "source": [
    "### Zad. 2.\n",
    "**Hipoteza cegiełek – pojęcie cegiełki w alg ewo**\n",
    "\n",
    "Hipoteza cegiełek - Dobrze przystosowane schematy niskiego rzędu i o małej rozpiętości (cegiełki) są wybierane, zestawiane i powielane, tworząc ciągi o wyższym przystosowaniu.  Bazując na tych schematach redukujemy złożoność problemu, zamiast bowiem próbować każdej możliwej kombinacji budujemy coraz lepsze ciągi z najlepszych częściowych rozwiązań dotychczas znalezionych.\n"
   ]
  },
  {
   "attachments": {},
   "cell_type": "markdown",
   "metadata": {},
   "source": [
    "### Zad. 3.\n",
    "**Co to jest minimalny problem zwodniczy?**\n",
    "\n",
    "brak\n",
    "___"
   ]
  },
  {
   "attachments": {},
   "cell_type": "markdown",
   "metadata": {},
   "source": [
    "# Wykład 3.\n",
    "___\n",
    "___"
   ]
  },
  {
   "attachments": {},
   "cell_type": "markdown",
   "metadata": {},
   "source": [
    "### Zad. 1.\n",
    "Dana jest funkcja przystosowania, zaproponuj jej skalowanie tak żeby populacja nie była na starcie zbyt jednorodna.\n",
    "\n",
    "f'max= Cmult * favg\n",
    "\n"
   ]
  },
  {
   "cell_type": "code",
   "execution_count": 3,
   "metadata": {},
   "outputs": [
    {
     "name": "stdout",
     "output_type": "stream",
     "text": [
      "[8.4, 9.2, 12.0, 9.6, 9.6, 13.600000000000001, 16.0]\n"
     ]
    }
   ],
   "source": [
    "f = [1, 3, 10, 4, 4, 14, 20]\n",
    "Cmult = 2.0\n",
    "\n",
    "f_avg = sum(f)/len(f)\n",
    "f_prim_max = Cmult * f_avg\n",
    "\n",
    "b = f_avg\n",
    "a = (f_prim_max - b) / max(f)\n",
    "\n",
    "print(list(map(lambda x: a*x+b,f)))"
   ]
  },
  {
   "attachments": {},
   "cell_type": "markdown",
   "metadata": {},
   "source": [
    "# Wykład 4.\n",
    "___\n",
    "___"
   ]
  },
  {
   "attachments": {},
   "cell_type": "markdown",
   "metadata": {},
   "source": [
    "Zad. 1.\n",
    "\n",
    "\n",
    "___"
   ]
  },
  {
   "attachments": {},
   "cell_type": "markdown",
   "metadata": {},
   "source": [
    "### Zad. 3.\n",
    "---\n",
    "Na czym polaga i jakie ma zastosowanie duplikacja i delecja w algorytmach genetycznych?"
   ]
  },
  {
   "attachments": {},
   "cell_type": "markdown",
   "metadata": {},
   "source": [
    "Są to adaptacyjne metody regulacji intensywności (tempa) mutacji.\n",
    "\n",
    "\n",
    "**Duplikacja** polaga na powieleniu istniejących genów z genów (pozycji w ciągu kodowym).\n",
    "\n",
    "*Przykład:*\n",
    "a1**a2**a3a4a5 -> a1**a2a2**a3a4a5\n",
    "\n",
    "*Działanie:*\n",
    "Zwiększa szansę mutacji powielonego genu.\n",
    "\n",
    "\n",
    "\n",
    "**Delecja** polaga na zredukowaniu istniejących genów [czy musi być zwielokrotniony?] (pozycji w ciągu kodowym).\n",
    "\n",
    "*Przykład:*\n",
    "a1**a2a2**a3a4a5 -> a1**a2**a3a4a5\n",
    "\n",
    "*Działanie:*\n",
    "Zmniejsza szanse na mutację zredukowanego genu.\n",
    "\n",
    "\n",
    "**Problem dominowania wewnątrz chromosomowego**\n",
    "\n",
    "Różne podejścia do cech zduplikowanych genów."
   ]
  },
  {
   "attachments": {},
   "cell_type": "markdown",
   "metadata": {},
   "source": [
    "### Zad. 4.\n",
    "---\n",
    "Jakie są typy organizacji równoległej algorytmów genetycznych?"
   ]
  },
  {
   "attachments": {},
   "cell_type": "markdown",
   "metadata": {},
   "source": [
    "* Synchroniczna scentralizowana\n",
    "* Półsynchroniczna scentralizowana\n",
    "* Asynchroniczna rozproszona\n",
    "* Sieciowa"
   ]
  },
  {
   "attachments": {},
   "cell_type": "markdown",
   "metadata": {},
   "source": [
    "### Zad. 6.\n",
    "---\n"
   ]
  },
  {
   "cell_type": "code",
   "execution_count": 52,
   "metadata": {},
   "outputs": [
    {
     "name": "stdout",
     "output_type": "stream",
     "text": [
      "([5, 6, 7, 2, 3, 10, 1, 9, 8, 4], [2, 3, 10, 5, 6, 7, 9, 4, 8, 1])\n",
      "([9, 8, 4, 5, 6, 7, 1, 3, 2, 10], [8, 7, 1, 2, 3, 10, 9, 5, 4, 6])\n"
     ]
    }
   ],
   "source": [
    "def pmx(chromosome1, chromosome2, start, end):\n",
    "    n: int = len(chromosome1)\n",
    "    mapping1 = {}\n",
    "    mapping2 = {}\n",
    "    for gen1, gen2 in zip(chromosome1, chromosome2):\n",
    "        mapping1[gen1] = gen2\n",
    "        mapping2[gen2] = gen1\n",
    "\n",
    "    new_chomosome1 = [None] * start + chromosome2[start:end] + [None] * (n - end)\n",
    "    new_chromosome_2 = [None] * start + chromosome1[start:end] + [None] * (n - end)\n",
    "\n",
    "    new_chromosome_2\n",
    "\n",
    "def ox(chromosome1, chromosome2, start, end):\n",
    "    n: int = len(chromosome1)\n",
    "    new_chomosome1 = [None] * start + chromosome2[start:end] + [None] * (n - end)\n",
    "    to_add1 = []\n",
    "    for gen in chromosome1[end:n] + chromosome1[0:end]:\n",
    "        if gen not in chromosome2[start:end]:\n",
    "            to_add1.append(gen)\n",
    "\n",
    "    new_chromosome_2 = [None] * start + chromosome1[start:end] + [None] * (n - end)\n",
    "    to_add2 = []\n",
    "    for gen in chromosome2[end:n] + chromosome2[0:end]:\n",
    "        if gen not in chromosome1[start:end]:\n",
    "            to_add2.append(gen)\n",
    "\n",
    "    for i in range(end, n):\n",
    "        new_chomosome1[i] = to_add1.pop(0)\n",
    "        new_chromosome_2[i] = to_add2.pop(0)\n",
    "\n",
    "    for i in range(start):\n",
    "        new_chomosome1[i] = to_add1.pop(0)\n",
    "        new_chromosome_2[i] = to_add2.pop(0)\n",
    "    \n",
    "    return new_chomosome1, new_chromosome_2\n",
    "\n",
    "def cx(chromosome1, chromosome2):\n",
    "    n: int = len(chromosome1)\n",
    "\n",
    "    child1 = [None] * n\n",
    "    child2 = [None] * n\n",
    "\n",
    "    source = chromosome1\n",
    "    mapping = chromosome2\n",
    "\n",
    "    for i in range(n):\n",
    "        if child1[i] is None:\n",
    "            indcies = [i]\n",
    "            start = source[i]\n",
    "            value = mapping[i]\n",
    "            while value != start:\n",
    "                new_i = source.index(value)\n",
    "                indcies.append(new_i)\n",
    "                value=mapping[new_i]\n",
    "            for j in indcies:\n",
    "                child1[j] = source[j]\n",
    "                child2[j] = mapping[j]\n",
    "\n",
    "            source, mapping = mapping, source\n",
    "\n",
    "    return child1, child2\n",
    "    \n",
    "\n",
    "\n",
    "ch1 = [9, 8, 4, 5, 6, 7, 1, 3, 2, 10]\n",
    "ch2 = [8, 7, 1, 2, 3, 10, 9, 5, 4, 6]\n",
    "\n",
    "\n",
    "print(ox(ch1,ch2, 3, 6))\n",
    "print(cx(ch1,ch2))"
   ]
  }
 ],
 "metadata": {
  "kernelspec": {
   "display_name": ".venv",
   "language": "python",
   "name": "python3"
  },
  "language_info": {
   "codemirror_mode": {
    "name": "ipython",
    "version": 3
   },
   "file_extension": ".py",
   "mimetype": "text/x-python",
   "name": "python",
   "nbconvert_exporter": "python",
   "pygments_lexer": "ipython3",
   "version": "3.9.13"
  },
  "orig_nbformat": 4,
  "vscode": {
   "interpreter": {
    "hash": "b29bcc1dbd9f2d601300af7ae44fd7cee076335342f7a62ce52c6baebe61a1fb"
   }
  }
 },
 "nbformat": 4,
 "nbformat_minor": 2
}
